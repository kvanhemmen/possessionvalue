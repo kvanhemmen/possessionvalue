{
 "cells": [
  {
   "cell_type": "code",
   "execution_count": 44,
   "metadata": {},
   "outputs": [
    {
     "name": "stderr",
     "output_type": "stream",
     "text": [
      "/Users/keesvanhemmen/anaconda3/lib/python3.7/site-packages/ipykernel_launcher.py:75: SettingWithCopyWarning: \n",
      "A value is trying to be set on a copy of a slice from a DataFrame\n",
      "\n",
      "See the caveats in the documentation: https://pandas.pydata.org/pandas-docs/stable/user_guide/indexing.html#returning-a-view-versus-a-copy\n",
      "/Users/keesvanhemmen/anaconda3/lib/python3.7/site-packages/ipykernel_launcher.py:77: SettingWithCopyWarning: \n",
      "A value is trying to be set on a copy of a slice from a DataFrame\n",
      "\n",
      "See the caveats in the documentation: https://pandas.pydata.org/pandas-docs/stable/user_guide/indexing.html#returning-a-view-versus-a-copy\n"
     ]
    },
    {
     "name": "stdout",
     "output_type": "stream",
     "text": [
      "38\n"
     ]
    }
   ],
   "source": [
    "# import libraries\n",
    "import pandas as pd\n",
    "import numpy as np\n",
    "from functools import reduce\n",
    "#create my final df for all my data\n",
    "final_df = pd.DataFrame()\n",
    "#ignore this\n",
    "excluders = [6, 8, 10, 13, 15, 17, 20, 24, 26, 31, 34, 37]\n",
    "# keeping track of how many matches have been process, ignore for now\n",
    "matchcount = 0\n",
    "# If you are uploading 25 matches from your desktop, games should = 26, alter accordingly\n",
    "games = 51\n",
    "# IMPORTANT – the teamid field must match the id of the team you want the data for in the file \n",
    "teamid = 32\n",
    "# read in PV data and alter it for our purposes\n",
    "pv = pd.read_csv(\"Desktop/PV.csv\", names = [\"coord\", \"val\"])\n",
    "x=pv[\"coord\"].str.split(',', expand=True)\n",
    "pv = pd.concat([pv, x], axis=1)\n",
    "pv.drop(columns = [\"coord\"], inplace=True)\n",
    "pv.columns = ['pv', 'x', 'y']\n",
    "pv['x'] = pv['x'].str[1:]\n",
    "pv['y'] = pv['y'].str[:-1]\n",
    "pv['x'] = pv['x'].astype(float)\n",
    "pv['y'] = pv['y'].astype(float)\n",
    "for i in range(1, games):\n",
    "    if i not in excluders:\n",
    "        #increase how many matches we have processed in the counter\n",
    "        matchcount +=1\n",
    "        # everyone file you upload should be on your desktop in the format \"match1.csv\", \"match2.csv\", etc etc\n",
    "        string = \"Desktop/match\" + str(i) + \".csv\"\n",
    "        # read in the file\n",
    "        df = pd.read_csv(string)\n",
    "        # limit the dataframe to only the following fields\n",
    "        df = df[[\"id\", \"eventId\", \"x\", \"y\",\"playerId\", \"teamId\", \"relatedPlayerId\", \"type/displayName\", \"outcomeType/displayName\",\"endX\", \"endY\"]]\n",
    "        # limit the event types in the dataframe to the following values\n",
    "        actiontypes1= ['Pass', 'Tackle', 'TakeOn', 'Dispossessed', 'BallRecovery',\n",
    "         'SavedShot', 'BallTouch', 'Interception', 'Challenge',\n",
    "         'CornerAwarded', 'MissedShots','Foul', 'Clearance',\n",
    "         'BlockedPass', 'OffsideGiven', 'OffsidePass', 'ShieldBallOpp', 'Goal', 'Claim',\n",
    "         'ShotOnPost', 'GoodSkill']\n",
    "        df = df.loc[df['type/displayName'].isin(actiontypes1)]\n",
    "        # further limitation of event types for later\n",
    "        actiontypes2 = ['Pass', 'BallTouch',\n",
    "       'Dispossessed', 'Clearance', 'SavedShot', 'TakeOn',\n",
    "       'MissedShots', 'CornerAwarded', 'BlockedPass', 'ShotOnPost', 'Goal', 'ShieldBallOpp', 'OffsideGiven', 'OffsidePass', 'GoodSkill', 'ChanceMissed']\n",
    "        # scale data to our scale\n",
    "        df['x']=df['x'] * 0.5\n",
    "        df['y']=df['y'] * 0.32 \n",
    "        df[\"endX\"] = df['endX'] * 0.49\n",
    "        df[\"endY\"]=df['endY'] * 0.31\n",
    "        df['x']=df['x'].apply(np.floor)\n",
    "        df['y']=df['y'].apply(np.floor) \n",
    "        df[\"endX\"] = df['endX'].apply(np.floor)\n",
    "        df[\"endY\"]=df['endY'].apply(np.floor)\n",
    "        # merge the xy data with the pv data\n",
    "        pv.columns = ['pv', 'x', 'y']\n",
    "        dfs = [df, pv]\n",
    "        df = reduce(lambda left,right: pd.merge(left,right, how='left', on=['x','y']), dfs)\n",
    "        pv.columns = [\"endpv\", \"endX\", \"endY\"]\n",
    "        dfs = [df, pv]\n",
    "        df = reduce(lambda left,right: pd.merge(left,right, how='left', on=['endX','endY']), dfs)\n",
    "        # limit events again for later\n",
    "        validevents = [\"BallTouch\", \"TakeOn\", \"ShieldBallOpp\", \"GoodSkill\", \"Tackle\", \"BallRecovery\", \"Interception\"]\n",
    "        # create a list of rows that we will iterate through (this is typically bad practice but there's a reason)\n",
    "        mark = df[\"teamId\"] == teamid\n",
    "        # set default values for new fields\n",
    "        df[\"received_pv\"] = 0\n",
    "        df[\"received_x\"] = 0\n",
    "        df[\"received_y\"] = 0\n",
    "        df[\"carried_pv\"] = 0\n",
    "        df[\"carried_start_x\"] = 0\n",
    "        df[\"carried_start_y\"] = 0\n",
    "        # use masks to limit the negative attribution of PV based on ball losses\n",
    "        mask = (df['outcomeType/displayName'] == \"Unsuccessful\") & (df['pv'] > 0.025)\n",
    "        df['endpv'][mask] = df['pv'] - 0.025\n",
    "        mask2 = (df['outcomeType/displayName'] == \"Unsuccessful\") & (df['pv'] <= 0.025)\n",
    "        df['endpv'][mask2] = 0\n",
    "        # create net_pv field\n",
    "        df[\"net_pv\"] = df[\"endpv\"] - df[\"pv\"]\n",
    "        # iterate through team events and attribute values\n",
    "        for p in range(len(mark)):\n",
    "            # if the row is a team event\n",
    "            if mark[p] == True:\n",
    "                # and the row is not the last row\n",
    "                if p + 1 < len(df[\"id\"]):\n",
    "                    # then select the row\n",
    "                    row = df.iloc[ p, : ]\n",
    "                    # attributing reception and carry value on passes\n",
    "                    if (row[\"type/displayName\"] == 'Pass' and row['outcomeType/displayName'] == \"Successful\"):\n",
    "                        df.loc[p+1,'received_pv'] = df.at[p,\"net_pv\"]\n",
    "                        df.loc[p+1,'received_x'] = df.at[p,\"endX\"]\n",
    "                        df.loc[p+1,'received_y'] = df.at[p,\"endY\"]\n",
    "                        df.loc[p+1, 'carried_pv'] = df.at[p+1, 'pv'] - df.at[p, 'endpv']\n",
    "                        df.loc[p+1,'carried_start_x'] = df.at[p,\"endX\"]\n",
    "                        df.loc[p+1,'carried_start_y'] = df.at[p,\"endY\"]\n",
    "                    # atrributing carry values otherwise\n",
    "                    elif (row[\"type/displayName\"] in validevents and row[\"playerId\"] == df.at[p+1, \"playerId\"]):\n",
    "                        df.loc[p+1, 'carried_pv'] = df.at[p+1, 'pv'] - df.at[p, 'endpv']\n",
    "                        df.loc[p+1,'carried_start_x'] = df.at[p,\"endX\"]\n",
    "                        df.loc[p+1,'carried_start_y'] = df.at[p,\"endY\"]\n",
    "        # limiting action types to only those that may receive value attribution\n",
    "        df = df.loc[df['type/displayName'].isin(actiontypes2)]\n",
    "        # limiting rows to team rows\n",
    "        df = df[df[\"teamId\"] == teamid]\n",
    "        # add current df to final df\n",
    "        final_df = pd.concat([final_df, df], axis=0)\n",
    "print(matchcount)"
   ]
  },
  {
   "cell_type": "code",
   "execution_count": 18,
   "metadata": {},
   "outputs": [],
   "source": [
    "# removes box entries (only run if you want Staging PV)\n",
    "ends = final_df[final_df[\"endX\"] < 42]\n",
    "endh = final_df[final_df[\"endY\"] < 4]\n",
    "endl = final_df[final_df[\"endY\"] > 28]\n",
    "\n",
    "\n",
    "final_df = pd.concat([ends, endh, endl], axis=0)\n",
    "\n",
    "final_df.drop_duplicates(subset =\"id\", \n",
    "                     keep = 'first', inplace = True) "
   ]
  },
  {
   "cell_type": "code",
   "execution_count": 26,
   "metadata": {},
   "outputs": [
    {
     "data": {
      "text/html": [
       "<div>\n",
       "<style scoped>\n",
       "    .dataframe tbody tr th:only-of-type {\n",
       "        vertical-align: middle;\n",
       "    }\n",
       "\n",
       "    .dataframe tbody tr th {\n",
       "        vertical-align: top;\n",
       "    }\n",
       "\n",
       "    .dataframe thead th {\n",
       "        text-align: right;\n",
       "    }\n",
       "</style>\n",
       "<table border=\"1\" class=\"dataframe\">\n",
       "  <thead>\n",
       "    <tr style=\"text-align: right;\">\n",
       "      <th></th>\n",
       "      <th>id</th>\n",
       "      <th>eventId</th>\n",
       "      <th>x</th>\n",
       "      <th>y</th>\n",
       "      <th>playerId</th>\n",
       "      <th>teamId</th>\n",
       "      <th>relatedPlayerId</th>\n",
       "      <th>type/displayName</th>\n",
       "      <th>outcomeType/displayName</th>\n",
       "      <th>endX</th>\n",
       "      <th>endY</th>\n",
       "      <th>pv</th>\n",
       "      <th>endpv</th>\n",
       "      <th>received_pv</th>\n",
       "      <th>received_x</th>\n",
       "      <th>received_y</th>\n",
       "      <th>carried_pv</th>\n",
       "      <th>carried_start_x</th>\n",
       "      <th>carried_start_y</th>\n",
       "      <th>net_pv</th>\n",
       "    </tr>\n",
       "  </thead>\n",
       "  <tbody>\n",
       "  </tbody>\n",
       "</table>\n",
       "</div>"
      ],
      "text/plain": [
       "Empty DataFrame\n",
       "Columns: [id, eventId, x, y, playerId, teamId, relatedPlayerId, type/displayName, outcomeType/displayName, endX, endY, pv, endpv, received_pv, received_x, received_y, carried_pv, carried_start_x, carried_start_y, net_pv]\n",
       "Index: []"
      ]
     },
     "execution_count": 26,
     "metadata": {},
     "output_type": "execute_result"
    }
   ],
   "source": [
    "final_df"
   ]
  },
  {
   "cell_type": "code",
   "execution_count": null,
   "metadata": {},
   "outputs": [],
   "source": [
    "# allow only box entries (only run if you want to isolate box entries)\n",
    "final_df = final_df[final_df[\"endY\"] > 4]\n",
    "final_df = final_df[final_df[\"endy\"] < 28]"
   ]
  },
  {
   "cell_type": "code",
   "execution_count": null,
   "metadata": {},
   "outputs": [],
   "source": [
    "# remove final third entries (only run if you want Buildup PV)\n",
    "final_df = final_df[final_df[\"x\"] > 34]\n",
    "final_df = final_df[final_df[\"endX\"] < 34]"
   ]
  },
  {
   "cell_type": "code",
   "execution_count": 29,
   "metadata": {},
   "outputs": [],
   "source": [
    "# read in the minutes file from the desktop where you map playerId to playerName and minutes\n",
    "# make sure you file is named 'min.csv', or change the filename in the code\n",
    "# this can just be an excel file that you save as a csv\n",
    "minutes = pd.read_csv('Desktop/minutes.csv')"
   ]
  },
  {
   "cell_type": "code",
   "execution_count": 46,
   "metadata": {},
   "outputs": [],
   "source": [
    "# sets the field names – make sure your fields have the same names, case sensitive\n",
    "minutes = minutes[[\"playerId\", \"Name\", \"Minutes\"]]"
   ]
  },
  {
   "cell_type": "code",
   "execution_count": 45,
   "metadata": {},
   "outputs": [
    {
     "name": "stdout",
     "output_type": "stream",
     "text": [
      "[122366. 109000. 336915. 118244. 300299. 331924.  79554.  99487.  97752.\n",
      " 243254. 100008. 302313. 367782.  25363.   8166.  38128. 114397. 365244.\n",
      " 299271. 338497. 353418.  70050. 367781. 384143.  81726. 123761. 243814.\n",
      "  31376. 312739.]\n"
     ]
    }
   ],
   "source": [
    "print(final_df[\"playerId\"].unique())"
   ]
  },
  {
   "cell_type": "code",
   "execution_count": 47,
   "metadata": {},
   "outputs": [],
   "source": [
    "# merge minutes\n",
    "dfs = [final_df, minutes]\n",
    "df = reduce(lambda left,right: pd.merge(left,right, on='playerId'), dfs)"
   ]
  },
  {
   "cell_type": "code",
   "execution_count": 48,
   "metadata": {},
   "outputs": [],
   "source": [
    "# write the data to a csv on your desktop (you can open in tableau with the Text File option)\n",
    "df.to_csv(\"Desktop/unitedpvpv2.csv\")"
   ]
  }
 ],
 "metadata": {
  "kernelspec": {
   "display_name": "Python 3",
   "language": "python",
   "name": "python3"
  },
  "language_info": {
   "codemirror_mode": {
    "name": "ipython",
    "version": 3
   },
   "file_extension": ".py",
   "mimetype": "text/x-python",
   "name": "python",
   "nbconvert_exporter": "python",
   "pygments_lexer": "ipython3",
   "version": "3.7.3"
  }
 },
 "nbformat": 4,
 "nbformat_minor": 2
}
